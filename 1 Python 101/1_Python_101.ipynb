{
  "nbformat": 4,
  "nbformat_minor": 0,
  "metadata": {
    "colab": {
      "provenance": []
    },
    "kernelspec": {
      "name": "python3",
      "display_name": "Python 3"
    },
    "language_info": {
      "name": "python"
    }
  },
  "cells": [
    {
      "cell_type": "markdown",
      "source": [
        "# Python Programming\n",
        "Python is a powerful multipurpose programming language created by Guido van Rossum.\n",
        "\n",
        "It has a simple and easy-to-use syntax, making it a popular first-choice programming language for beginners."
      ],
      "metadata": {
        "id": "uG4JPtbFn9sQ"
      }
    },
    {
      "cell_type": "markdown",
      "source": [
        "## What is Python Programming Language?\n",
        "\n",
        "Python is an interpreted, object-oriented, high-level programming language. As it is general-purpose, it has a wide range of applications from web development, building desktop GUI to scientific and mathematical computing."
      ],
      "metadata": {
        "id": "FQoL3h43oLH1"
      }
    },
    {
      "cell_type": "markdown",
      "source": [
        "## Features\n",
        "\n",
        "- Simple and easy to learn\n",
        "- Free and open-source\n",
        "- Portability\n",
        "- Extensible and Embeddable\n",
        "- High-Level Interpreted Language\n",
        "- Rich library and large community\n"
      ],
      "metadata": {
        "id": "IXJkcjz_oQgs"
      }
    },
    {
      "cell_type": "markdown",
      "source": [
        "## Reasons to Choose Python as First Language\n",
        "\n",
        "1. Simple Elegant Syntax\n",
        "```\n",
        "a = 2\n",
        "b = 3\n",
        "sum = a + b\n",
        "print(sum)\n",
        "```\n",
        "Even if you have never programmed before, you can easily guess that this program adds two numbers and displays it.\n",
        "\n",
        "\n",
        "2. Not overly strict: You don't need to define the type of a `variable` in Python. Also, it's not necessary to add a semicolon`;` at the end of the statement.\n",
        "\n",
        "3. The expressiveness of the language: greater functionality with fewer lines of code.\n",
        "```\n",
        "a = 15\n",
        "b = 27\n",
        "print(f'Before swapping: a, b = {a},{b}')\n",
        "a, b = b, a\n",
        "print(f'After swapping: a, b = {a},{b}')\n",
        "```\n"
      ],
      "metadata": {
        "id": "y41_jPmGokaM"
      }
    },
    {
      "cell_type": "markdown",
      "source": [
        "## Applications of Python\n",
        "\n",
        "1. Web Applications\n",
        "2. AI & Machine Learning\n",
        "3. Desktop GUI Applications\n",
        "4. Software Development\n",
        "5. Scientific and Numeric\n",
        "6. Business Applications\n",
        "7. Console Based Application\n",
        "8. Audio or Video based Applications\n",
        "9. 3D CAD Applications\n",
        "10. Enterprise Applications\n",
        "11. Applications for Images\n",
        "12. Games and 3D Graphics"
      ],
      "metadata": {
        "id": "z4MhOlbcpY-Q"
      }
    },
    {
      "cell_type": "markdown",
      "source": [
        "# Python Installation\n",
        "\n",
        "I recommend reading the documentation from [https://www.python.org/](https://www.python.org/) OR [https://www.anaconda.com/](https://www.anaconda.com/) to fully install Phyton locally on your system. Good thing is, Python is available on all -- Windows, Mac, and Linux!"
      ],
      "metadata": {
        "id": "m8aJDva5qlUx"
      }
    },
    {
      "cell_type": "markdown",
      "source": [
        "# Hello, World!\n",
        "\n",
        "Now that we have Python up and running, we can write our first Python program.\n",
        "\n",
        "Let's create a very simple program called `Hello, World!`. A **\"Hello, World!\"** is a simple program that outputs Hello, World! on the screen. Since it's a very simple program, it's often used to introduce a new programming language to beginners.\n",
        "\n",
        "`print(\"Hello, World!\")`\n",
        "\n",
        "**Congratulations!** You just wrote your first program in Python.\n",
        "\n",
        "### Let's breakdown the components of this code.\n",
        "1. `print()` is a function that tells the computer to perform an action. We know it is a function because it uses parentheses. print() tells Python to display or output whatever we put in the parentheses. By default, this will output to the current terminal window.\n",
        "2. Some functions, like the [`print()`](https://docs.python.org/3/library/functions.html#print) function, are [built-in functions](https://docs.python.org/3/library/functions.html) included in Python by default. These built-in functions are always available for us to use in programs that we create. We can also define our own functions that we construct ourselves through other elements.\n",
        "3. Inside the parentheses of the `print()` function is a sequence of characters — **Hello, World!** — that is enclosed in quotation marks `'` or `\"`. Any characters that are inside of quotation marks are called a **string**."
      ],
      "metadata": {
        "id": "D3VQIRK4p_Fe"
      }
    },
    {
      "cell_type": "code",
      "execution_count": null,
      "metadata": {
        "colab": {
          "base_uri": "https://localhost:8080/"
        },
        "id": "b-JoaTGVm3Kj",
        "outputId": "308bdcd1-e240-44f7-b57e-87f8690cfb6d"
      },
      "outputs": [
        {
          "output_type": "stream",
          "name": "stdout",
          "text": [
            "Hello, World!\n"
          ]
        }
      ],
      "source": [
        "print(\"Hello, World!\")"
      ]
    },
    {
      "cell_type": "markdown",
      "source": [
        "**Congratulations!** You have written the “Hello, World!” program in *Python 3*. Since the program ran, you can now confirm that Python 3 is properly installed and that the program is syntactically correct."
      ],
      "metadata": {
        "id": "hBRDcOuEu01y"
      }
    },
    {
      "cell_type": "markdown",
      "source": [
        "### How to print blank lines\n",
        "Sometimes you need to print one blank line in your Python program."
      ],
      "metadata": {
        "id": "pS3bUYg7u9DU"
      }
    },
    {
      "cell_type": "code",
      "source": [
        "print (\"Hello World!\")\n",
        "print (9 * \"\\n\")\n",
        "# print (\"\\n\\n\\n\\n\\n\\n\\n\\n\\n\")\n",
        "print (\"Hello World!\")"
      ],
      "metadata": {
        "colab": {
          "base_uri": "https://localhost:8080/"
        },
        "id": "nHQraIKsuwHg",
        "outputId": "3ea33bcb-6aba-4135-e38b-3fb295d047c0"
      },
      "execution_count": null,
      "outputs": [
        {
          "output_type": "stream",
          "name": "stdout",
          "text": [
            "Hello World!\n",
            "\n",
            "\n",
            "\n",
            "\n",
            "\n",
            "\n",
            "\n",
            "\n",
            "\n",
            "\n",
            "Hello World!\n"
          ]
        }
      ]
    },
    {
      "cell_type": "code",
      "source": [
        "print (\"Jan\\nFeb\\nMar\\nApr\\nMay\\nJun\\nJul\\nAug\\nSep\\nOct\\nNov\\nDec\")"
      ],
      "metadata": {
        "colab": {
          "base_uri": "https://localhost:8080/"
        },
        "id": "ebqqxbTcvSxq",
        "outputId": "cd2fec0b-486f-4c69-8d2a-f40f40338cd8"
      },
      "execution_count": null,
      "outputs": [
        {
          "output_type": "stream",
          "name": "stdout",
          "text": [
            "Jan\n",
            "Feb\n",
            "Mar\n",
            "Apr\n",
            "May\n",
            "Jun\n",
            "Jul\n",
            "Aug\n",
            "Sep\n",
            "Oct\n",
            "Nov\n",
            "Dec\n"
          ]
        }
      ]
    },
    {
      "cell_type": "code",
      "source": [
        "print (\"I want \\\\n to be printed.\")\n",
        "print(\"I'm very *happy*\")"
      ],
      "metadata": {
        "colab": {
          "base_uri": "https://localhost:8080/"
        },
        "id": "N_aZMp7EvQ30",
        "outputId": "f5246733-87f3-44c2-b04b-a856829c6402"
      },
      "execution_count": null,
      "outputs": [
        {
          "output_type": "stream",
          "name": "stdout",
          "text": [
            "I want \\n to be printed.\n",
            "I'm very *happy*\n"
          ]
        }
      ]
    },
    {
      "cell_type": "code",
      "source": [
        "print (\"Hello\\tWorld!\") # \\t is equal to 4 spaces"
      ],
      "metadata": {
        "colab": {
          "base_uri": "https://localhost:8080/"
        },
        "id": "lSi0TXrmvYCi",
        "outputId": "9bcc2a4a-e624-4ac9-94fa-ac2bb1fc6411"
      },
      "execution_count": null,
      "outputs": [
        {
          "output_type": "stream",
          "name": "stdout",
          "text": [
            "Hello\tWorld!\n"
          ]
        }
      ]
    },
    {
      "cell_type": "code",
      "source": [
        "print (\"\"\"\n",
        "Routine:\n",
        "\\t- Eat\n",
        "\\t- Study\n",
        "\\t- RoboAI\n",
        "\\t- Sleep\\n\\t- Repeat\n",
        "\"\"\")"
      ],
      "metadata": {
        "colab": {
          "base_uri": "https://localhost:8080/"
        },
        "id": "mdXu1GF8vbkb",
        "outputId": "61acaf94-adf9-4ccf-e19b-6335f5973cc0"
      },
      "execution_count": null,
      "outputs": [
        {
          "output_type": "stream",
          "name": "stdout",
          "text": [
            "\n",
            "Routine:\n",
            "\t- Eat\n",
            "\t- Study\n",
            "\t- RoboAI\n",
            "\t- Sleep\n",
            "\t- Repeat\n",
            "\n"
          ]
        }
      ]
    },
    {
      "cell_type": "markdown",
      "source": [
        "## `print()` **end** command\n",
        "By default, python's `print()` function ends with a newline. This function comes with a parameter called `end`. The default value of this parameter is `\\n`, i.e., the new line character. You can end a print statement with any character or string using this parameter."
      ],
      "metadata": {
        "id": "_11qcvZrv2AX"
      }
    },
    {
      "cell_type": "code",
      "source": [
        "print (\"Welcome to\", end = ' ')\n",
        "print (\"Python\", end = '!')"
      ],
      "metadata": {
        "colab": {
          "base_uri": "https://localhost:8080/"
        },
        "id": "_kAoL-ZwvjCy",
        "outputId": "ae79206c-2894-40a9-b969-fbc2b91333a7"
      },
      "execution_count": null,
      "outputs": [
        {
          "output_type": "stream",
          "name": "stdout",
          "text": [
            "Welcome to Python!"
          ]
        }
      ]
    },
    {
      "cell_type": "code",
      "source": [
        "print(\"Python \" , end = '@') # ends the output with '@'."
      ],
      "metadata": {
        "colab": {
          "base_uri": "https://localhost:8080/"
        },
        "id": "BgDgtTupwIGn",
        "outputId": "4a9f6c22-6507-43d7-aa34-4de0dcb26a68"
      },
      "execution_count": null,
      "outputs": [
        {
          "output_type": "stream",
          "name": "stdout",
          "text": [
            "Python @"
          ]
        }
      ]
    },
    {
      "cell_type": "code",
      "source": [
        "print ('_M'*9)"
      ],
      "metadata": {
        "colab": {
          "base_uri": "https://localhost:8080/"
        },
        "id": "Yt1A2RfpwLa1",
        "outputId": "aa3db2b6-8a81-4b51-da50-94dfbb70ccfa"
      },
      "execution_count": null,
      "outputs": [
        {
          "output_type": "stream",
          "name": "stdout",
          "text": [
            "_M_M_M_M_M_M_M_M_M\n"
          ]
        }
      ]
    },
    {
      "cell_type": "code",
      "source": [
        "print(\"*knock knock knock* Penny! \\n\" * 3)\n",
        "# TBBT reference - iykyk!"
      ],
      "metadata": {
        "colab": {
          "base_uri": "https://localhost:8080/"
        },
        "id": "lCFQ8-sQwNDc",
        "outputId": "764d1b5c-1c18-451a-ad4b-131f9dbe556f"
      },
      "execution_count": null,
      "outputs": [
        {
          "output_type": "stream",
          "name": "stdout",
          "text": [
            "*knock knock knock* Penny! \n",
            "*knock knock knock* Penny! \n",
            "*knock knock knock* Penny! \n",
            "\n"
          ]
        }
      ]
    },
    {
      "cell_type": "markdown",
      "source": [
        "# Data-types\n",
        "Every value in Python has a datatype. Since everything is an object in Python programming, data types are actually classes and variables are instance (object) of these classes."
      ],
      "metadata": {
        "id": "WOZGU-thwcKf"
      }
    },
    {
      "cell_type": "markdown",
      "source": [
        "## 1. Numbers\n",
        "Integers, floating point numbers and complex numbers fall under **Python numbers** category. They are defined as `int`, `float` and `complex` classes.\n",
        "\n",
        "We can use the `type()` function to know which class a variable or a value belongs to."
      ],
      "metadata": {
        "id": "Wxa2Kvrcxj-q"
      }
    },
    {
      "cell_type": "code",
      "source": [
        "a = 6\n",
        "print(a, \"is of type\", type(a))"
      ],
      "metadata": {
        "colab": {
          "base_uri": "https://localhost:8080/"
        },
        "id": "wTMki6ltwOtR",
        "outputId": "7c9f66bf-f2ac-415e-f9b9-d96275c3143b"
      },
      "execution_count": null,
      "outputs": [
        {
          "output_type": "stream",
          "name": "stdout",
          "text": [
            "6 is of type <class 'int'>\n"
          ]
        }
      ]
    },
    {
      "cell_type": "markdown",
      "source": [
        "Similarly, the `isinstance()` function is used to check if an object belongs to a particular class."
      ],
      "metadata": {
        "id": "vAVdSk_JyWlD"
      }
    },
    {
      "cell_type": "code",
      "source": [
        "print(a, \"is integer number?\", isinstance(a,int)) # answers in True/False"
      ],
      "metadata": {
        "colab": {
          "base_uri": "https://localhost:8080/"
        },
        "id": "Ikpe8X0eyUZ7",
        "outputId": "448415a8-589d-4895-c73e-a1db699c54f6"
      },
      "execution_count": null,
      "outputs": [
        {
          "output_type": "stream",
          "name": "stdout",
          "text": [
            "6 is integer number? True\n"
          ]
        }
      ]
    },
    {
      "cell_type": "code",
      "source": [
        "a = 3.0\n",
        "print(a, \"is of type\", type(a))\n",
        "print(a, \"is float number?\", isinstance(a,float))"
      ],
      "metadata": {
        "colab": {
          "base_uri": "https://localhost:8080/"
        },
        "id": "NvPXAA3gybj0",
        "outputId": "e1bf8fd8-3745-4aa2-b5b6-4971e18786c0"
      },
      "execution_count": null,
      "outputs": [
        {
          "output_type": "stream",
          "name": "stdout",
          "text": [
            "3.0 is of type <class 'float'>\n",
            "3.0 is float number? True\n"
          ]
        }
      ]
    },
    {
      "cell_type": "code",
      "source": [
        "a = 1+2j  # '1' is real part and '2j' is imaginary part\n",
        "print(a, \"is of type\", type(a))\n",
        "print(a, \"is complex number?\", isinstance(a,complex))"
      ],
      "metadata": {
        "colab": {
          "base_uri": "https://localhost:8080/"
        },
        "id": "M2t7foywyjfp",
        "outputId": "2d16eced-c9d6-45ea-b13b-c6253368f77a"
      },
      "execution_count": null,
      "outputs": [
        {
          "output_type": "stream",
          "name": "stdout",
          "text": [
            "(1+2j) is of type <class 'complex'>\n",
            "(1+2j) is complex number? True\n"
          ]
        }
      ]
    },
    {
      "cell_type": "code",
      "source": [
        "a = 1234567890123456789\n",
        "print (a)\n",
        "\n",
        "b = 0.1234567890123456789  # total of only 17 numbers after decimal can be printed.\n",
        "print (b)\n",
        "\n",
        "c = 1+2j\n",
        "print (c)"
      ],
      "metadata": {
        "colab": {
          "base_uri": "https://localhost:8080/"
        },
        "id": "Esbea-mhylvn",
        "outputId": "819bf2da-e005-42b0-a1d3-de91f2a85d32"
      },
      "execution_count": null,
      "outputs": [
        {
          "output_type": "stream",
          "name": "stdout",
          "text": [
            "1234567890123456789\n",
            "0.12345678901234568\n",
            "(1+2j)\n"
          ]
        }
      ]
    },
    {
      "cell_type": "markdown",
      "source": [
        "## 2. List `[]`\n",
        "[List](https://docs.python.org/3/tutorial/datastructures.html) is an **ordered sequence** of items."
      ],
      "metadata": {
        "id": "rvsNkWJczHZl"
      }
    },
    {
      "cell_type": "code",
      "source": [
        "x = [6, 99, 77, 'Apple']\n",
        "print(x, \"is of type\", type(x))"
      ],
      "metadata": {
        "colab": {
          "base_uri": "https://localhost:8080/"
        },
        "id": "4Uiir7hKzBFn",
        "outputId": "a10c13f5-512e-49ea-e6a9-bd55e436f590"
      },
      "execution_count": null,
      "outputs": [
        {
          "output_type": "stream",
          "name": "stdout",
          "text": [
            "[6, 99, 77, 'Apple'] is of type <class 'list'>\n"
          ]
        }
      ]
    },
    {
      "cell_type": "code",
      "source": [
        "a = [5, 10, 15, 20, 25, 30, 35, 40]  # Total elemnets is 8\n",
        "#   [0   1   2   3   4   5   6   7]  ⬅ Index forward\n",
        "#   [-8 -7  -6  -5  -4  -3  -2  -1]  ➡ Index backward\n",
        "\n",
        "# index '0' is element '1' = 5,\n",
        "# index '1' is element '2' = 10,\n",
        "# index '2' is element '3' = 15,\n",
        "# .\n",
        "# .\n",
        "# .\n",
        "# index '7' is element '8' = 40,\n",
        "\n",
        "a[1] # To access the elements in the list\n",
        "\n",
        "# a[2] = 15\n",
        "print(\"a[2] = \", a[2])\n",
        "\n",
        "# a[0:3] = [5, 10, 15]\n",
        "print(\"a[0:3] = \", a[0:3])  # [0:3] means elements from 0 uptil 2 index (not include last element)\n",
        "                            # [0:3] means from index 0 to 3 - 1\n",
        "                            # [0:3] means from index 0 to 2\n",
        "\n",
        "# a[5:] = [30, 35, 40]  # [5:] means all the elements from 5 till end\n",
        "print(\"a[5:] = \", a[5:])"
      ],
      "metadata": {
        "colab": {
          "base_uri": "https://localhost:8080/"
        },
        "id": "-PE9n2zwz9SP",
        "outputId": "dd3d6447-ac39-4e83-ae15-be86c43b27f9"
      },
      "execution_count": null,
      "outputs": [
        {
          "output_type": "stream",
          "name": "stdout",
          "text": [
            "a[2] =  15\n",
            "a[0:3] =  [5, 10, 15]\n",
            "a[5:] =  [30, 35, 40]\n"
          ]
        }
      ]
    },
    {
      "cell_type": "code",
      "source": [
        "a[1:-2]"
      ],
      "metadata": {
        "colab": {
          "base_uri": "https://localhost:8080/"
        },
        "id": "JSd-clLK0KZ9",
        "outputId": "29b888d1-91d4-47d0-d70f-9254fc9b05b3"
      },
      "execution_count": null,
      "outputs": [
        {
          "output_type": "execute_result",
          "data": {
            "text/plain": [
              "[10, 15, 20, 25, 30]"
            ]
          },
          "metadata": {},
          "execution_count": 22
        }
      ]
    },
    {
      "cell_type": "code",
      "source": [
        "a[5:9]"
      ],
      "metadata": {
        "colab": {
          "base_uri": "https://localhost:8080/"
        },
        "id": "ftWzt1yH0MsG",
        "outputId": "3cfcd9af-ad98-42cc-88a7-39226b762643"
      },
      "execution_count": null,
      "outputs": [
        {
          "output_type": "execute_result",
          "data": {
            "text/plain": [
              "[30, 35, 40]"
            ]
          },
          "metadata": {},
          "execution_count": 23
        }
      ]
    },
    {
      "cell_type": "code",
      "source": [
        "a[:5]"
      ],
      "metadata": {
        "colab": {
          "base_uri": "https://localhost:8080/"
        },
        "id": "M1qlIx4r0OtH",
        "outputId": "bd4d593e-bbe0-4291-a8e6-acb8efb0224f"
      },
      "execution_count": null,
      "outputs": [
        {
          "output_type": "execute_result",
          "data": {
            "text/plain": [
              "[5, 10, 15, 20, 25]"
            ]
          },
          "metadata": {},
          "execution_count": 24
        }
      ]
    },
    {
      "cell_type": "code",
      "source": [
        "# Change the element of the List\n",
        "a = [1, 2, 3]\n",
        "#   [0  1  2] ➡ Index forward\n",
        "\n",
        "a[2] = 4  # Change my third element from '3' to '4' # [2] is the index number\n",
        "print(a)"
      ],
      "metadata": {
        "colab": {
          "base_uri": "https://localhost:8080/"
        },
        "id": "KlrEa1Bv0QX8",
        "outputId": "bdf0c435-5d98-40b2-c2ec-f8b9502fb19f"
      },
      "execution_count": null,
      "outputs": [
        {
          "output_type": "stream",
          "name": "stdout",
          "text": [
            "[1, 2, 4]\n"
          ]
        }
      ]
    },
    {
      "cell_type": "markdown",
      "source": [
        "## 3. Tuple `()`\n",
        "[Tuple](https://docs.python.org/3/tutorial/datastructures.html#tuples-and-sequences) is an **ordered sequence** of items same as a list. The only difference is that tuples are **immutable**. *Tuples once created cannot be modified.*\n",
        "\n",
        "Tuples are used to **write-protect data** and are usually faster than lists as they cannot change dynamically.\n",
        "\n",
        "It is defined within parentheses `()` where items are separated by commas.\n"
      ],
      "metadata": {
        "id": "6pMhnDby0c9I"
      }
    },
    {
      "cell_type": "code",
      "source": [
        "# Tuple 't' have 3 elements\n",
        "t = (6,'program', 1+3j)\n",
        "#   (0        1      2) ➡ Index forward\n",
        "\n",
        "# index '0' is element '1'= 6\n",
        "# index '1' is element '2'= program\n",
        "# index '2' is elemtnt '3'= 1+3j\n",
        "\n",
        "# t[1] = 'program'\n",
        "print(\"t[1] = \", t[1])\n",
        "\n",
        "# t[0:3] = (6, 'program', (1+3j))\n",
        "print(\"t[0:3] = \", t[0:3])\n",
        "\n",
        "# Generates error\n",
        "# Tuples are immutable\n",
        "t[0] = 10  # trying to change element 0 from '6' to '10'"
      ],
      "metadata": {
        "colab": {
          "base_uri": "https://localhost:8080/",
          "height": 219
        },
        "id": "aQKdgMWM0T7J",
        "outputId": "d836ec67-dec5-4277-ffd9-2e620d01766b"
      },
      "execution_count": null,
      "outputs": [
        {
          "output_type": "stream",
          "name": "stdout",
          "text": [
            "t[1] =  program\n",
            "t[0:3] =  (6, 'program', (1+3j))\n"
          ]
        },
        {
          "output_type": "error",
          "ename": "TypeError",
          "evalue": "'tuple' object does not support item assignment",
          "traceback": [
            "\u001b[0;31m---------------------------------------------------------------------------\u001b[0m",
            "\u001b[0;31mTypeError\u001b[0m                                 Traceback (most recent call last)",
            "\u001b[0;32m<ipython-input-26-c92d9f2b36de>\u001b[0m in \u001b[0;36m<cell line: 17>\u001b[0;34m()\u001b[0m\n\u001b[1;32m     15\u001b[0m \u001b[0;31m# Generates error\u001b[0m\u001b[0;34m\u001b[0m\u001b[0;34m\u001b[0m\u001b[0m\n\u001b[1;32m     16\u001b[0m \u001b[0;31m# Tuples are immutable\u001b[0m\u001b[0;34m\u001b[0m\u001b[0;34m\u001b[0m\u001b[0m\n\u001b[0;32m---> 17\u001b[0;31m \u001b[0mt\u001b[0m\u001b[0;34m[\u001b[0m\u001b[0;36m0\u001b[0m\u001b[0;34m]\u001b[0m \u001b[0;34m=\u001b[0m \u001b[0;36m10\u001b[0m  \u001b[0;31m# trying to change element 0 from '6' to '10'\u001b[0m\u001b[0;34m\u001b[0m\u001b[0;34m\u001b[0m\u001b[0m\n\u001b[0m",
            "\u001b[0;31mTypeError\u001b[0m: 'tuple' object does not support item assignment"
          ]
        }
      ]
    },
    {
      "cell_type": "code",
      "source": [
        "list1 =  [9, 'apple', 3 + 6j]  # list\n",
        "tuple1 = (9, 'apple', 3 + 6j)  # tuple\n",
        "\n",
        "list1[1] = 'banana'  # List is mutable\n",
        "print(list1)         # No error\n",
        "tuple1[1]= 'banana'  # Tuple is immutable\n",
        "print(tuple1)        # error"
      ],
      "metadata": {
        "colab": {
          "base_uri": "https://localhost:8080/",
          "height": 219
        },
        "id": "37sO4n4y1ERe",
        "outputId": "10a7ac74-431e-453d-aa35-f85edaf6f55c"
      },
      "execution_count": null,
      "outputs": [
        {
          "output_type": "stream",
          "name": "stdout",
          "text": [
            "[9, 'banana', (3+6j)]\n"
          ]
        },
        {
          "output_type": "error",
          "ename": "TypeError",
          "evalue": "'tuple' object does not support item assignment",
          "traceback": [
            "\u001b[0;31m---------------------------------------------------------------------------\u001b[0m",
            "\u001b[0;31mTypeError\u001b[0m                                 Traceback (most recent call last)",
            "\u001b[0;32m<ipython-input-27-e32e417070a1>\u001b[0m in \u001b[0;36m<cell line: 6>\u001b[0;34m()\u001b[0m\n\u001b[1;32m      4\u001b[0m \u001b[0mlist1\u001b[0m\u001b[0;34m[\u001b[0m\u001b[0;36m1\u001b[0m\u001b[0;34m]\u001b[0m \u001b[0;34m=\u001b[0m \u001b[0;34m'banana'\u001b[0m  \u001b[0;31m# List is mutable\u001b[0m\u001b[0;34m\u001b[0m\u001b[0;34m\u001b[0m\u001b[0m\n\u001b[1;32m      5\u001b[0m \u001b[0mprint\u001b[0m\u001b[0;34m(\u001b[0m\u001b[0mlist1\u001b[0m\u001b[0;34m)\u001b[0m         \u001b[0;31m# No error\u001b[0m\u001b[0;34m\u001b[0m\u001b[0;34m\u001b[0m\u001b[0m\n\u001b[0;32m----> 6\u001b[0;31m \u001b[0mtuple1\u001b[0m\u001b[0;34m[\u001b[0m\u001b[0;36m1\u001b[0m\u001b[0;34m]\u001b[0m\u001b[0;34m=\u001b[0m \u001b[0;34m'banana'\u001b[0m  \u001b[0;31m# Tuple is immutable\u001b[0m\u001b[0;34m\u001b[0m\u001b[0;34m\u001b[0m\u001b[0m\n\u001b[0m\u001b[1;32m      7\u001b[0m \u001b[0mprint\u001b[0m\u001b[0;34m(\u001b[0m\u001b[0mtuple1\u001b[0m\u001b[0;34m)\u001b[0m        \u001b[0;31m# error\u001b[0m\u001b[0;34m\u001b[0m\u001b[0;34m\u001b[0m\u001b[0m\n",
            "\u001b[0;31mTypeError\u001b[0m: 'tuple' object does not support item assignment"
          ]
        }
      ]
    },
    {
      "cell_type": "markdown",
      "source": [
        "## 4. Strings\n",
        "[String](https://docs.python.org/3/library/string.html) is sequence of Unicode characters. We can use single quotes or double quotes to represent strings. Multi-line strings can be denoted using triple quotes, `'''` or `\"\"\"`."
      ],
      "metadata": {
        "id": "qO-LEigP1Pk-"
      }
    },
    {
      "cell_type": "code",
      "source": [
        "s = '''Apple'''\n",
        "print(s)\n",
        "s = \"\"\"Apple\"\"\"\n",
        "print(s)\n",
        "s = 'Apple'\n",
        "print(s)\n",
        "s = \"Apple\"\n",
        "print(s)\n",
        "s = Apple   # cannot write string with out quotes ('', \" \", \"\"\" \"\"\", ''' ''')\n",
        "print(s)"
      ],
      "metadata": {
        "colab": {
          "base_uri": "https://localhost:8080/",
          "height": 274
        },
        "id": "g3zVFzPY1Obu",
        "outputId": "afa9586f-1999-4e2f-d2c2-2993955b9284"
      },
      "execution_count": null,
      "outputs": [
        {
          "output_type": "stream",
          "name": "stdout",
          "text": [
            "Apple\n",
            "Apple\n",
            "Apple\n",
            "Apple\n"
          ]
        },
        {
          "output_type": "error",
          "ename": "NameError",
          "evalue": "name 'Apple' is not defined",
          "traceback": [
            "\u001b[0;31m---------------------------------------------------------------------------\u001b[0m",
            "\u001b[0;31mNameError\u001b[0m                                 Traceback (most recent call last)",
            "\u001b[0;32m<ipython-input-28-7fce570bf337>\u001b[0m in \u001b[0;36m<cell line: 9>\u001b[0;34m()\u001b[0m\n\u001b[1;32m      7\u001b[0m \u001b[0ms\u001b[0m \u001b[0;34m=\u001b[0m \u001b[0;34m\"Apple\"\u001b[0m\u001b[0;34m\u001b[0m\u001b[0;34m\u001b[0m\u001b[0m\n\u001b[1;32m      8\u001b[0m \u001b[0mprint\u001b[0m\u001b[0;34m(\u001b[0m\u001b[0ms\u001b[0m\u001b[0;34m)\u001b[0m\u001b[0;34m\u001b[0m\u001b[0;34m\u001b[0m\u001b[0m\n\u001b[0;32m----> 9\u001b[0;31m \u001b[0ms\u001b[0m \u001b[0;34m=\u001b[0m \u001b[0mApple\u001b[0m   \u001b[0;31m# cannot write string with out quotes ('', \" \", \"\"\" \"\"\", ''' ''')\u001b[0m\u001b[0;34m\u001b[0m\u001b[0;34m\u001b[0m\u001b[0m\n\u001b[0m\u001b[1;32m     10\u001b[0m \u001b[0mprint\u001b[0m\u001b[0;34m(\u001b[0m\u001b[0ms\u001b[0m\u001b[0;34m)\u001b[0m\u001b[0;34m\u001b[0m\u001b[0;34m\u001b[0m\u001b[0m\n",
            "\u001b[0;31mNameError\u001b[0m: name 'Apple' is not defined"
          ]
        }
      ]
    },
    {
      "cell_type": "code",
      "source": [
        "s = \"This is a string\"  # s is my variable\n",
        "print(s)\n",
        "s = '''A multiline\n",
        "string'''\n",
        "print(s)"
      ],
      "metadata": {
        "colab": {
          "base_uri": "https://localhost:8080/"
        },
        "id": "uN_W_zJB176n",
        "outputId": "cac5c736-9fa0-4095-f422-372460a447a1"
      },
      "execution_count": null,
      "outputs": [
        {
          "output_type": "stream",
          "name": "stdout",
          "text": [
            "This is a string\n",
            "A multiline\n",
            "string\n"
          ]
        }
      ]
    },
    {
      "cell_type": "markdown",
      "source": [
        "Just like a list and tuple, the slicing operator `[ ]` can be used with strings. Strings, however, are **immutable**."
      ],
      "metadata": {
        "id": "LIk3__Wy2CEc"
      }
    },
    {
      "cell_type": "code",
      "source": [
        "s = 'Hello world!' # total 12 elements. Index start from '0' to '11'\n",
        "\n",
        "# s[4] = 'o'\n",
        "print(\"s[4] = \", s[4])\n",
        "\n",
        "# s[6:11] = 'world' # index '6' to '11' means element from 6 to 10\n",
        "print(\"s[6:11] = \", s[6:11])"
      ],
      "metadata": {
        "colab": {
          "base_uri": "https://localhost:8080/"
        },
        "id": "5csOCGlB1-Xw",
        "outputId": "565ad989-e875-4520-f036-29ef74e0cb5e"
      },
      "execution_count": null,
      "outputs": [
        {
          "output_type": "stream",
          "name": "stdout",
          "text": [
            "s[4] =  o\n",
            "s[6:11] =  world\n"
          ]
        }
      ]
    },
    {
      "cell_type": "code",
      "source": [
        "a = \"apple\"\n",
        "\n",
        "a[0]='o'\n",
        "\n",
        "# Simiar to TUPLE, STRING is immutable"
      ],
      "metadata": {
        "colab": {
          "base_uri": "https://localhost:8080/",
          "height": 219
        },
        "id": "ekvQx2xs2LPP",
        "outputId": "e8edc575-9c91-4906-d087-c90a69cc108c"
      },
      "execution_count": null,
      "outputs": [
        {
          "output_type": "error",
          "ename": "TypeError",
          "evalue": "'str' object does not support item assignment",
          "traceback": [
            "\u001b[0;31m---------------------------------------------------------------------------\u001b[0m",
            "\u001b[0;31mTypeError\u001b[0m                                 Traceback (most recent call last)",
            "\u001b[0;32m<ipython-input-31-466b90e7ef2f>\u001b[0m in \u001b[0;36m<cell line: 3>\u001b[0;34m()\u001b[0m\n\u001b[1;32m      1\u001b[0m \u001b[0ma\u001b[0m \u001b[0;34m=\u001b[0m \u001b[0;34m\"apple\"\u001b[0m\u001b[0;34m\u001b[0m\u001b[0;34m\u001b[0m\u001b[0m\n\u001b[1;32m      2\u001b[0m \u001b[0;34m\u001b[0m\u001b[0m\n\u001b[0;32m----> 3\u001b[0;31m \u001b[0ma\u001b[0m\u001b[0;34m[\u001b[0m\u001b[0;36m0\u001b[0m\u001b[0;34m]\u001b[0m\u001b[0;34m=\u001b[0m\u001b[0;34m'o'\u001b[0m\u001b[0;34m\u001b[0m\u001b[0;34m\u001b[0m\u001b[0m\n\u001b[0m\u001b[1;32m      4\u001b[0m \u001b[0;34m\u001b[0m\u001b[0m\n\u001b[1;32m      5\u001b[0m \u001b[0;31m# Simiar to TUPLE, STRING is immutable\u001b[0m\u001b[0;34m\u001b[0m\u001b[0;34m\u001b[0m\u001b[0m\n",
            "\u001b[0;31mTypeError\u001b[0m: 'str' object does not support item assignment"
          ]
        }
      ]
    },
    {
      "cell_type": "markdown",
      "source": [
        "## 5. Set `{ }`\n",
        "[Set](https://docs.python.org/3/tutorial/datastructures.html#sets) is an **unordered collection** of unique items. Set is defined by values separated by comma inside braces `{ }`. Items in a set are not ordered."
      ],
      "metadata": {
        "id": "OsX-WTJZ2UFj"
      }
    },
    {
      "cell_type": "code",
      "source": [
        "a = {7,1,3,6,9}\n",
        "\n",
        "# printing set variable\n",
        "print(\"a = \", a)\n",
        "\n",
        "# data type of variable a\n",
        "print(type(a))"
      ],
      "metadata": {
        "colab": {
          "base_uri": "https://localhost:8080/"
        },
        "id": "-O_DThHF2NPF",
        "outputId": "007255fd-df88-4699-9029-7f2dbd0e5186"
      },
      "execution_count": null,
      "outputs": [
        {
          "output_type": "stream",
          "name": "stdout",
          "text": [
            "a =  {1, 3, 6, 7, 9}\n",
            "<class 'set'>\n"
          ]
        }
      ]
    },
    {
      "cell_type": "markdown",
      "source": [
        "We can perform set operations like union, intersection on two sets. Sets have unique values. They eliminate duplicates."
      ],
      "metadata": {
        "id": "hXIoGW3Q2sXd"
      }
    },
    {
      "cell_type": "code",
      "source": [
        "a = {1,2,2,3,3,3} # we can see total 6 elements\n",
        "print(a)"
      ],
      "metadata": {
        "colab": {
          "base_uri": "https://localhost:8080/"
        },
        "id": "2HLLCqoe2nzb",
        "outputId": "aebc725a-7a5f-45ef-d42b-4505e2636613"
      },
      "execution_count": null,
      "outputs": [
        {
          "output_type": "stream",
          "name": "stdout",
          "text": [
            "{1, 2, 3}\n"
          ]
        }
      ]
    },
    {
      "cell_type": "markdown",
      "source": [
        "Since, set are unordered collection, indexing has no meaning. Hence, the slicing operator `[]` does not work."
      ],
      "metadata": {
        "id": "7TlpX02i2v32"
      }
    },
    {
      "cell_type": "code",
      "source": [
        "a = {1,2,3}  # in Set data type we cannot access the elements because set is unordered collection\n",
        "a[1]  # Index [1] means element 2"
      ],
      "metadata": {
        "colab": {
          "base_uri": "https://localhost:8080/",
          "height": 165
        },
        "id": "J1XbtHdX2tNt",
        "outputId": "edd7c7cd-5f21-4cc3-96ba-c469df9019cf"
      },
      "execution_count": null,
      "outputs": [
        {
          "output_type": "error",
          "ename": "TypeError",
          "evalue": "'set' object is not subscriptable",
          "traceback": [
            "\u001b[0;31m---------------------------------------------------------------------------\u001b[0m",
            "\u001b[0;31mTypeError\u001b[0m                                 Traceback (most recent call last)",
            "\u001b[0;32m<ipython-input-34-242b77ef2a87>\u001b[0m in \u001b[0;36m<cell line: 2>\u001b[0;34m()\u001b[0m\n\u001b[1;32m      1\u001b[0m \u001b[0ma\u001b[0m \u001b[0;34m=\u001b[0m \u001b[0;34m{\u001b[0m\u001b[0;36m1\u001b[0m\u001b[0;34m,\u001b[0m\u001b[0;36m2\u001b[0m\u001b[0;34m,\u001b[0m\u001b[0;36m3\u001b[0m\u001b[0;34m}\u001b[0m  \u001b[0;31m# in Set data type we cannot access the elements because set is unordered collection\u001b[0m\u001b[0;34m\u001b[0m\u001b[0;34m\u001b[0m\u001b[0m\n\u001b[0;32m----> 2\u001b[0;31m \u001b[0ma\u001b[0m\u001b[0;34m[\u001b[0m\u001b[0;36m1\u001b[0m\u001b[0;34m]\u001b[0m  \u001b[0;31m# Index [1] means element 2\u001b[0m\u001b[0;34m\u001b[0m\u001b[0;34m\u001b[0m\u001b[0m\n\u001b[0m",
            "\u001b[0;31mTypeError\u001b[0m: 'set' object is not subscriptable"
          ]
        }
      ]
    },
    {
      "cell_type": "markdown",
      "source": [
        "## 6. Dictionary `{:}`\n",
        "[Dictionary]() is an **unordered collection** of **key-value pairs**.\n",
        "It is generally used when we have a huge amount of data. Dictionaries are optimized for retrieving data. We must know the key to retrieve the value.\n",
        "In Python, dictionaries are defined within braces `{}` with each item being a pair in the form key:value. Key and value can be of any type."
      ],
      "metadata": {
        "id": "kUmm3ms226Jc"
      }
    },
    {
      "cell_type": "code",
      "source": [
        "d = {1: 'Apple', 2: 'Cat', 3: 'Food'}  # 'Apple' is element and 1 is the key of element.\n",
        "print(d, type(d))\n",
        "\n",
        "d[3]"
      ],
      "metadata": {
        "colab": {
          "base_uri": "https://localhost:8080/",
          "height": 54
        },
        "id": "J78b3xww20Gy",
        "outputId": "8c1e0f79-7838-445e-c31d-11c8bc01530e"
      },
      "execution_count": null,
      "outputs": [
        {
          "output_type": "stream",
          "name": "stdout",
          "text": [
            "{1: 'Apple', 2: 'Cat', 3: 'Food'} <class 'dict'>\n"
          ]
        },
        {
          "output_type": "execute_result",
          "data": {
            "text/plain": [
              "'Food'"
            ],
            "application/vnd.google.colaboratory.intrinsic+json": {
              "type": "string"
            }
          },
          "metadata": {},
          "execution_count": 35
        }
      ]
    },
    {
      "cell_type": "code",
      "source": [
        "d = {1:'value','key':2} # d is my variable, 'value' and 'key' are the element and 1 and 2 are the key.\n",
        "type(d)"
      ],
      "metadata": {
        "colab": {
          "base_uri": "https://localhost:8080/"
        },
        "id": "ZF2xybiE3StD",
        "outputId": "ee947e15-a212-46fe-9394-b149315b9d49"
      },
      "execution_count": null,
      "outputs": [
        {
          "output_type": "execute_result",
          "data": {
            "text/plain": [
              "dict"
            ]
          },
          "metadata": {},
          "execution_count": 36
        }
      ]
    },
    {
      "cell_type": "code",
      "source": [
        "d = {1:'value','key':2} # '1' is the key to access 'value' and 'key' is the key to access '2'\n",
        "print(type(d))\n",
        "\n",
        "print(\"d[1] = \", d[1]); # try to find the element from key.\n",
        "\n",
        "print(\"d['key'] = \", d['key']);  # try to find the key from the element."
      ],
      "metadata": {
        "colab": {
          "base_uri": "https://localhost:8080/"
        },
        "id": "u_v9rimv3Y6J",
        "outputId": "0bc3a654-5460-46f2-a4d2-18aa3992ed8c"
      },
      "execution_count": null,
      "outputs": [
        {
          "output_type": "stream",
          "name": "stdout",
          "text": [
            "<class 'dict'>\n",
            "d[1] =  value\n",
            "d['key'] =  2\n"
          ]
        }
      ]
    },
    {
      "cell_type": "code",
      "source": [
        "print(type(zip([1,2],[3,4])))"
      ],
      "metadata": {
        "colab": {
          "base_uri": "https://localhost:8080/"
        },
        "id": "NGIYoGAr3fVV",
        "outputId": "c4154585-d8c0-4242-c454-1b90b0bdef78"
      },
      "execution_count": null,
      "outputs": [
        {
          "output_type": "stream",
          "name": "stdout",
          "text": [
            "<class 'zip'>\n"
          ]
        }
      ]
    },
    {
      "cell_type": "markdown",
      "source": [
        "# Operators\n",
        "Python is also a calculator, lol.\n",
        "\n",
        "Q.> What are **Operators**?\n",
        "Operators are special **symbols** in Python that carry out **arithmetic** or **logical computation**. The value that the operator operates on is called the **operand**."
      ],
      "metadata": {
        "id": "gR84lszC3nP_"
      }
    },
    {
      "cell_type": "code",
      "source": [
        "6+3\n",
        "# Here, + is the operator that performs addition.\n",
        "# 6 and 3 are the operands and 9 is the output of the operation."
      ],
      "metadata": {
        "colab": {
          "base_uri": "https://localhost:8080/"
        },
        "id": "KpuyYttI3h0L",
        "outputId": "419bee75-b777-472c-a4e2-0d0ae3be65f3"
      },
      "execution_count": null,
      "outputs": [
        {
          "output_type": "execute_result",
          "data": {
            "text/plain": [
              "9"
            ]
          },
          "metadata": {},
          "execution_count": 39
        }
      ]
    },
    {
      "cell_type": "markdown",
      "source": [
        "## 1. Arithmetic\n",
        "Arithmetic operators are used to perform **mathematical operations** like **addition**, **subtraction**, **multiplication** etc.\n",
        "\n",
        "\n",
        "| Symbol | Task Performed | Meaning | Example |\n",
        "|:------:|:---------------| :------: |:--------:|\n",
        "| **`+`**      | Addition | add two operands or unary plus | **x + y** or **+2** |\n",
        "| **`-`**      | Subtraction | substract right operand from the left or unary minus | **x - y** or **-2** |\n",
        "| **`*`**      | Multiplication | Multiply two operands | **x \\\\* y** |\n",
        "| **`/`**      | Division | Divide left operand by the right one (always results into float) | **x / y** |\n",
        "| **`%`**      | Modulus (remainder) | remainder of the division of left operand by the right | **x % y** (remainder of **x/y**) |\n",
        "| **`//`**     | Integer/Floor division | division that results into whole number adjusted to the left in the number line | **x // y** |\n",
        "| <b>`**`</b>     | Exponentiation (power) | left operand raised to the power of right | **x \\\\*\\\\* y** (**x** to the power **y**) |"
      ],
      "metadata": {
        "id": "35Enckma4TQw"
      }
    },
    {
      "cell_type": "code",
      "source": [
        "print('Addition: ', 1 + 2)\n",
        "print('Subtraction: ', 2 - 1)\n",
        "print('Multiplication: ', 2 * 3)\n",
        "print ('Division: ', 4 / 2)                         # Division in python gives floating number\n",
        "print('Division: ', 6 / 2)\n",
        "print('Division: ', 7 / 2)\n",
        "print('Division without the remainder: ', 7 // 2)   # gives without the floating number or without the remaining\n",
        "print('Modulus: ', 3 % 2)                           # Gives the remainder\n",
        "print ('Division without the remainder: ',7 // 3)\n",
        "print('Exponential: ', 3 ** 2)                      # it means 3 * 3"
      ],
      "metadata": {
        "colab": {
          "base_uri": "https://localhost:8080/"
        },
        "id": "5qHkXCHC4NuK",
        "outputId": "f4bb0f4f-6c9f-4def-8e7e-c3c5aad93033"
      },
      "execution_count": null,
      "outputs": [
        {
          "output_type": "stream",
          "name": "stdout",
          "text": [
            "Addition:  3\n",
            "Subtraction:  1\n",
            "Multiplication:  6\n",
            "Division:  2.0\n",
            "Division:  3.0\n",
            "Division:  3.5\n",
            "Division without the remainder:  3\n",
            "Modulus:  1\n",
            "Division without the remainder:  2\n",
            "Exponential:  9\n"
          ]
        }
      ]
    },
    {
      "cell_type": "code",
      "source": [
        "x = 16\n",
        "y = 3\n",
        "\n",
        "print('x + y =',x+y) # 19\n",
        "print('x - y =',x-y) # 13\n",
        "print('x * y =',x*y) # 48\n",
        "print('x / y =',x/y) # 5.333\n",
        "print('x // y =',x//y) # 519"
      ],
      "metadata": {
        "colab": {
          "base_uri": "https://localhost:8080/"
        },
        "id": "ML2hWmwR51G4",
        "outputId": "fbc652d3-bdce-4cf2-c5a0-9418a0a6e435"
      },
      "execution_count": null,
      "outputs": [
        {
          "output_type": "stream",
          "name": "stdout",
          "text": [
            "x + y = 19\n",
            "x - y = 13\n",
            "x * y = 48\n",
            "x / y = 5.333333333333333\n",
            "x // y = 5\n"
          ]
        }
      ]
    },
    {
      "cell_type": "code",
      "source": [
        "# Python natively allows (nearly) infinite length integers while floating point numbers are double precision numbers:\n",
        "22**600"
      ],
      "metadata": {
        "colab": {
          "base_uri": "https://localhost:8080/"
        },
        "id": "_bLik-J-57Jp",
        "outputId": "4317cf44-a89b-44a1-9e01-d2035c1196bd"
      },
      "execution_count": null,
      "outputs": [
        {
          "output_type": "execute_result",
          "data": {
            "text/plain": [
              "28418980453852622603883856494709731311218158362293224700445543940796643776911788129508577246309929258069598467896008287596053863082109746801947722280783720032649818198464452375358348619120021135797251857019557032565638659667745421115194468559021541269027438746788486392649581405327516658718317011453858465218779880972140612551504149701082164179367484198570734230003528355826545644223794779911723917115845213739921327820409005460708547942445234906498880588411276755120002108963510955276534630522965966177951626038063994937181228938844252668098515385045718428663547788122173798704717510979319749834083419004355222012043715855123615249682039587844431246269017612728291710718821388840627277407189863509789929339102406655115786899696829902032282666983426897111750208839152830573688512831984602085360572485861376"
            ]
          },
          "metadata": {},
          "execution_count": 43
        }
      ]
    },
    {
      "cell_type": "markdown",
      "source": [
        "## 2. Comparison/Relational operators\n",
        "Comparison operators are used to **compare values**. It either returns **True** or **False** according to the **condition**.\n",
        "\n",
        "| Symbol | Task Performed | Meaning | Example |\n",
        "|:----:| :--- |:--- |:---: |\n",
        "| **`>`** | greater than | True if left operand is greater than the right | **x > y** |\n",
        "| **`<`** | less than | True if left operand is less than the right | **x < y** |\n",
        "| **`==`** | equal to | True if both operands are equal | **x == y** |\n",
        "| **`!=`**  | not equal to | True if both operands are not equal | **x != y** |\n",
        "| **`>=`**  | greater than or equal to | True if left operand is greater than or equal to the right | **x >= y** |\n",
        "| **`<=`**  | less than or equal to | True if left operand is less than or equal to the right | **x <= y** |\n",
        "\n",
        "Note the difference between **`==`** (equality test) and **`=`** (assignment)"
      ],
      "metadata": {
        "id": "IVZkUud16U48"
      }
    },
    {
      "cell_type": "code",
      "source": [
        "print(6 > 3)                           # True, because 3 is greater than 2\n",
        "print(6 >= 3)                          # True, because 3 is greater than 2\n",
        "print(6 < 3)                           # False,  because 3 is greater than 2\n",
        "print(3 < 6)                           # True, because 2 is less than 3\n",
        "print(3 <= 6)                          # True, because 2 is less than 3\n",
        "print(6 == 3)                          # False, because 3 is not equal to 2\n",
        "print(6 != 3)                          # True, because 3 is not equal to 2\n",
        "print(len(\"apple\") == len(\"avocado\"))  # False\n",
        "print(len(\"apple\") != len(\"avocado\"))  # True\n",
        "print(len(\"apple\") < len(\"avocado\"))   # True\n",
        "print(len(\"banana\") != len(\"orange\"))  # False\n",
        "print(len(\"banana\") == len(\"orange\"))  # True\n",
        "print(len(\"tomato\") == len(\"potato\"))  # True\n",
        "print(len(\"python\") > len(\"coding\"))   # False"
      ],
      "metadata": {
        "colab": {
          "base_uri": "https://localhost:8080/"
        },
        "id": "1P95tSLd6IUH",
        "outputId": "e86dcf27-c2cc-48a5-e4cb-5b489e0fec84"
      },
      "execution_count": null,
      "outputs": [
        {
          "output_type": "stream",
          "name": "stdout",
          "text": [
            "True\n",
            "True\n",
            "False\n",
            "True\n",
            "True\n",
            "False\n",
            "True\n",
            "False\n",
            "True\n",
            "True\n",
            "False\n",
            "True\n",
            "True\n",
            "False\n"
          ]
        }
      ]
    },
    {
      "cell_type": "code",
      "source": [
        "x = 30\n",
        "y = 22\n",
        "\n",
        "print('x > y is',x>y)   # False\n",
        "print('x < y is',x<y)   # True\n",
        "print('x >= y is',x>=y) # False\n",
        "print('x <= y is',x<=y) # True"
      ],
      "metadata": {
        "colab": {
          "base_uri": "https://localhost:8080/"
        },
        "id": "rF98bMxv6x1P",
        "outputId": "8b3cfe1a-f957-4c7b-8197-43822dcd2366"
      },
      "execution_count": null,
      "outputs": [
        {
          "output_type": "stream",
          "name": "stdout",
          "text": [
            "x > y is True\n",
            "x < y is False\n",
            "x >= y is True\n",
            "x <= y is False\n"
          ]
        }
      ]
    },
    {
      "cell_type": "code",
      "source": [
        "z = 3  # 3 is assign to variable z\n",
        "z == 3 # 3 is equal to z"
      ],
      "metadata": {
        "colab": {
          "base_uri": "https://localhost:8080/"
        },
        "id": "ox8MwR3T6zfT",
        "outputId": "2e1e7a63-2d15-4bdf-99a2-4a9cb3500472"
      },
      "execution_count": null,
      "outputs": [
        {
          "output_type": "execute_result",
          "data": {
            "text/plain": [
              "True"
            ]
          },
          "metadata": {},
          "execution_count": 46
        }
      ]
    },
    {
      "cell_type": "markdown",
      "source": [
        "## 3. Logical / Boolean Operators\n",
        "Logical operators are the `and`, `or`, `not` operators.\n",
        "\n",
        "| Symbol | Meaning | Example |\n",
        "|:----:| :---: |:---:|\n",
        "| **`and`** |  True if both the operands are true | **x and y** |\n",
        "| **`or`** |  True if either of the operand is true | **x or y** |\n",
        "| **`not`** |  True if operand are false (complements the operand) | **not x** |"
      ],
      "metadata": {
        "id": "5EnSNZ2D7Etk"
      }
    },
    {
      "cell_type": "code",
      "source": [
        "print('True == True: ', True == True)\n",
        "print('True == False: ', True == False)\n",
        "print('False == False:', False == False)\n",
        "print('True and True: ', True and True)\n",
        "print('True or False:', True or False)"
      ],
      "metadata": {
        "colab": {
          "base_uri": "https://localhost:8080/"
        },
        "id": "ssgyxrOU61rY",
        "outputId": "5ac401ad-a38e-4821-c089-315b5c00d115"
      },
      "execution_count": null,
      "outputs": [
        {
          "output_type": "stream",
          "name": "stdout",
          "text": [
            "True == True:  True\n",
            "True == False:  False\n",
            "False == False: True\n",
            "True and True:  True\n",
            "True or False: True\n"
          ]
        }
      ]
    },
    {
      "cell_type": "code",
      "source": [
        "# Another way comparison\n",
        "\n",
        "print('1 is 1', 1 is 1)                  # True  - because the data values are the same\n",
        "print('1 is not 2', 1 is not 2)          # True  - because 1 is not 2\n",
        "print('A in Milaan', 'A' in 'Milaan')    # True  - A found in the string\n",
        "print('B in Milaan', 'B' in 'Milaan')    # False - there is no uppercase B\n",
        "print('python' in 'python is fun')       # True  - because coding for all has the word coding\n",
        "print('a in an:', 'a' in 'an')           # True\n",
        "print('27 is 3 ** 3:', 27 is 3**3)       # True"
      ],
      "metadata": {
        "colab": {
          "base_uri": "https://localhost:8080/"
        },
        "id": "nrwd24dP7VOk",
        "outputId": "efd5a54d-20b6-418c-ccac-8aa6ea9b45c2"
      },
      "execution_count": null,
      "outputs": [
        {
          "output_type": "stream",
          "name": "stdout",
          "text": [
            "1 is 1 True\n",
            "1 is not 2 True\n",
            "A in Milaan False\n",
            "B in Milaan False\n",
            "True\n",
            "a in an: True\n",
            "27 is 3 ** 3: True\n"
          ]
        },
        {
          "output_type": "stream",
          "name": "stderr",
          "text": [
            "<>:3: SyntaxWarning: \"is\" with a literal. Did you mean \"==\"?\n",
            "<>:4: SyntaxWarning: \"is not\" with a literal. Did you mean \"!=\"?\n",
            "<>:9: SyntaxWarning: \"is\" with a literal. Did you mean \"==\"?\n",
            "<>:3: SyntaxWarning: \"is\" with a literal. Did you mean \"==\"?\n",
            "<>:4: SyntaxWarning: \"is not\" with a literal. Did you mean \"!=\"?\n",
            "<>:9: SyntaxWarning: \"is\" with a literal. Did you mean \"==\"?\n",
            "<ipython-input-49-7c9145eb11e9>:3: SyntaxWarning: \"is\" with a literal. Did you mean \"==\"?\n",
            "  print('1 is 1', 1 is 1)                  # True  - because the data values are the same\n",
            "<ipython-input-49-7c9145eb11e9>:4: SyntaxWarning: \"is not\" with a literal. Did you mean \"!=\"?\n",
            "  print('1 is not 2', 1 is not 2)          # True  - because 1 is not 2\n",
            "<ipython-input-49-7c9145eb11e9>:9: SyntaxWarning: \"is\" with a literal. Did you mean \"==\"?\n",
            "  print('27 is 3 ** 3:', 27 is 3**3)       # True\n"
          ]
        }
      ]
    },
    {
      "cell_type": "code",
      "source": [
        "print(6 > 3 and 5 > 3) # True  - because both statements are true\n",
        "print(6 > 3 and 5 < 3) # False - because the second statement is false\n",
        "print(6 < 3 and 5 < 3) # False - because both statements are false\n",
        "print(6 > 3 or 5 > 3)  # True  - because both statements are true\n",
        "print(6 > 3 or 5 < 3)  # True  - because one of the statement is true\n",
        "print(6 < 3 or 5 < 3)  # False - because both statements are false\n",
        "print(not 6 > 3)       # False - because 6 > 3 is true, then not True gives False\n",
        "print(not True)        # False - Negation, the not operator turns true to false\n",
        "print(not False)       # True\n",
        "print(not not True)    # True\n",
        "print(not not False)   # False"
      ],
      "metadata": {
        "colab": {
          "base_uri": "https://localhost:8080/"
        },
        "id": "0bmjiEUW7ZVi",
        "outputId": "f75560ae-77fd-4bec-bcd8-6c956fb4f18a"
      },
      "execution_count": null,
      "outputs": [
        {
          "output_type": "stream",
          "name": "stdout",
          "text": [
            "True\n",
            "False\n",
            "False\n",
            "True\n",
            "True\n",
            "False\n",
            "False\n",
            "False\n",
            "True\n",
            "True\n",
            "False\n"
          ]
        }
      ]
    },
    {
      "cell_type": "code",
      "source": [
        "x = True\n",
        "y = False\n",
        "\n",
        "print('x and y is',x and y) # False\n",
        "print('x or y is',x or y) # True\n",
        "print('not x is',not x) # False"
      ],
      "metadata": {
        "colab": {
          "base_uri": "https://localhost:8080/"
        },
        "id": "CgCBtpud7fMV",
        "outputId": "1dd38aca-8cbc-44fb-debf-c02f5e7ad3c1"
      },
      "execution_count": null,
      "outputs": [
        {
          "output_type": "stream",
          "name": "stdout",
          "text": [
            "x and y is False\n",
            "x or y is True\n",
            "not x is False\n"
          ]
        }
      ]
    },
    {
      "cell_type": "code",
      "source": [
        "True and (not(not False)) or (True and (not True))  # What will be output?"
      ],
      "metadata": {
        "colab": {
          "base_uri": "https://localhost:8080/"
        },
        "id": "mnVa5qwB7gsQ",
        "outputId": "edc38c78-7d99-492f-c7de-2029795982b8"
      },
      "execution_count": null,
      "outputs": [
        {
          "output_type": "execute_result",
          "data": {
            "text/plain": [
              "False"
            ]
          },
          "metadata": {},
          "execution_count": 52
        }
      ]
    },
    {
      "cell_type": "markdown",
      "source": [
        "## 4. Bitwise operators\n",
        "Bitwise operators act on operands as if they were string of binary digits. It operates **bit by bit**, hence the name.\n",
        "**For example:** 2 is `10` in binary and 7 is `111`.\n",
        "**In the table below:** Let `x` = 10 (`0000 1010` in binary) and `y` = 4 (`0000 0100` in binary)\n",
        "\n",
        "| Operator | Meaning  | Symbol | Task Performed | Example |\n",
        "|:---:|:---:| :---:|:---:|:---:|\n",
        "|**`and`** | Logical and |  **`&`**    | Bitwise And | **x & y** = 0 (**`0000 0000`**) |\n",
        "|**`or`**  | Logical or  |  **\\|** | Bitwise OR  | **x \\| y** = 14 (**`0000 1110`**) |\n",
        "|**`not`** | Not         |  **`~`**    | Bitwise NOT | **~x** = -11 (**`1111 0101`**) |\n",
        "| &nbsp;   |&nbsp;       |    **`^`**  | Bitwise XOR | **x ^ y** = 14 (**`0000 1110`**) |\n",
        "| &nbsp;   |&nbsp;       |   **`>>`**  | Bitwise right shift | **x >> 2** = 2 (**`0000 0010`**) |\n",
        "| &nbsp;   |&nbsp;       |   **`<<`**  | Bitwise left shift | **x << 2** = 40 (**`0010 1000`**) |"
      ],
      "metadata": {
        "id": "bi22q84N7r0N"
      }
    },
    {
      "cell_type": "code",
      "source": [
        "a = 2 #binary: 0010\n",
        "b = 3 #binary: 0011\n",
        "print('a & b =',a & b,\"=\",bin(a&b))"
      ],
      "metadata": {
        "colab": {
          "base_uri": "https://localhost:8080/"
        },
        "id": "kyQYogZ67iyU",
        "outputId": "5b115af6-d988-4445-9065-596c7cc76a3a"
      },
      "execution_count": null,
      "outputs": [
        {
          "output_type": "stream",
          "name": "stdout",
          "text": [
            "a & b = 2 = 0b10\n"
          ]
        }
      ]
    },
    {
      "cell_type": "code",
      "source": [
        "5 >> 1\n",
        "\n",
        "# 0 ➡ 0000 0101\n",
        "#      0000 0010\n",
        "# 0010 is 2 in decimal\n",
        "\n",
        "# Explanation\n",
        "# 0000 0101 -> 5 (5 is 0101 in binary)\n",
        "# Shifting the digits by 1 to the right and zero padding that will be:\n",
        "# 0 ➡ 0000 0101 = 0000 0010\n",
        "# 0000 0010 -> 2"
      ],
      "metadata": {
        "colab": {
          "base_uri": "https://localhost:8080/"
        },
        "id": "vi5yANdMIztY",
        "outputId": "b73e7f69-eeec-44d6-b109-8b65aea9a4f7"
      },
      "execution_count": null,
      "outputs": [
        {
          "output_type": "execute_result",
          "data": {
            "text/plain": [
              "2"
            ]
          },
          "metadata": {},
          "execution_count": 55
        }
      ]
    },
    {
      "cell_type": "markdown",
      "source": [
        "## 5. Assignment Operators\n",
        "Assignment operators are used in Python to **assign values** to **variables**.\n",
        "\n",
        "| Symbol | Example | Equivalent to |\n",
        "|:---:|:---:|:---:|\n",
        "| **`=`** | **x = 5** | **x = 5** |\n",
        "| **`+=`** | **x += 5** | **x = x + 5** |\n",
        "| **`-=`** | **x -= 5** | **x = x - 5** |\n",
        "| **`*=`** | **x \\\\*= 5** | **x = x \\\\* 5** |\n",
        "| **`/=`** | **x /= 5** | **x = x / 5** |\n",
        "| **`%=`** | **x %= 5** | **x = x % 5** |\n",
        "| **`//=`** | **x //= 5** | **x = x // 5** |\n",
        "| <b>`**=`</b> | **x \\\\*\\\\*= 5** | **x = x \\\\*\\\\* 5** |\n",
        "| **`&=`** | **x &= 5** | **x = x & 5** |\n",
        "| **`\\\\|=`** | **x \\\\|= 5** | **x = x \\\\| 5** |\n",
        "| **`^=`** | **x ^= 5** | **x = x ^ 5** |\n",
        "| **`>>=`** | **x >>= 5** | **x = x >> 5** |\n",
        "| **`<<=`** | **x <<= 5** | **x = x << 5** |\n",
        "\n",
        "The binary operators can be combined with assignment to modify a variable value."
      ],
      "metadata": {
        "id": "Hx3NNxXhJLy3"
      }
    },
    {
      "cell_type": "code",
      "source": [
        "x = 1\n",
        "x += 2 # add 2 to x\n",
        "print(\"x is\",x)\n",
        "x <<= 2 # left shift by 2 (equivalent to x *= 4)\n",
        "print('x is',x)\n",
        "x **= 2 # x := x^2\n",
        "print('x is',x)"
      ],
      "metadata": {
        "colab": {
          "base_uri": "https://localhost:8080/"
        },
        "id": "TPscxfijI70C",
        "outputId": "9333f826-227d-4f43-cf41-f095308cffb5"
      },
      "execution_count": null,
      "outputs": [
        {
          "output_type": "stream",
          "name": "stdout",
          "text": [
            "x is 3\n",
            "x is 12\n",
            "x is 144\n"
          ]
        }
      ]
    },
    {
      "cell_type": "markdown",
      "source": [
        "## 6. Special Operators\n",
        "There are some special types of operators like the identity operator or the membership operator.\n",
        "\n",
        "#### 1. Identity Operators\n",
        "`is` and `is not` are the identity operators in Python. They are used to check if two values (or variables) are located on the same part of the memory. Two variables that are equal does not imply that they are **identical**.\n",
        "\n",
        "| Symbol | Meaning | Example |\n",
        "|:---:| :---: |:---:|\n",
        "| **`is`** |  True if the operands are identical (refer to the same object) | **x is True**  |\n",
        "| **`is not`** |  True if the operands are not identical (do not refer to the same object)  | **x is not True** |"
      ],
      "metadata": {
        "id": "ks-EJJPSJ06A"
      }
    },
    {
      "cell_type": "code",
      "source": [
        "x1 = 6\n",
        "y1 = 6\n",
        "x2 = 'Hello'\n",
        "y2 = 'Hello'\n",
        "x3 = [1,2,3] # list\n",
        "y3 = [1,2,3] # list\n",
        "\n",
        "# Output: False\n",
        "print(x1 is not y1)\n",
        "\n",
        "# Output: True\n",
        "print(x2 is y2)\n",
        "\n",
        "# Output: False because two list [] can never be equal\n",
        "print(x3 is y3)"
      ],
      "metadata": {
        "colab": {
          "base_uri": "https://localhost:8080/"
        },
        "id": "qk0WbPk3JxUK",
        "outputId": "4d167d04-7091-448c-fcda-842128d021f8"
      },
      "execution_count": null,
      "outputs": [
        {
          "output_type": "stream",
          "name": "stdout",
          "text": [
            "False\n",
            "True\n",
            "False\n"
          ]
        }
      ]
    },
    {
      "cell_type": "markdown",
      "source": [
        "#### 2. Membership Operators\n",
        "**`in`** and **`not in`** are the membership operators in Python. They are used to test whether a value or variable is found in a **sequence** (string, list, tuple, and dictionary).\n",
        "\n",
        "| Symbol | Meaning | Example |\n",
        "|:---:| :---: |:---:|\n",
        "| **`in`** |  True if value/variable is found in sequence | **5 in x**  |\n",
        "| **`not in`** |  True if value/variable is not found in sequence | **5 not in x**  |"
      ],
      "metadata": {
        "id": "QLIWGFGHKWr3"
      }
    },
    {
      "cell_type": "code",
      "source": [
        "x = 'Hello world'\n",
        "y = {1:'a',2:'b'} # dictionary 1 is key and 'a' is element. So we access element without its key.\n",
        "\n",
        "# Output: True\n",
        "print('H' in x)  # Do we have 'H' in 'Hello World' ?\n",
        "\n",
        "# Output: True\n",
        "print('hello' not in x)  # Do we have 'hello' in 'Hello World' ?\n",
        "\n",
        "# Output: True\n",
        "print(1 in y)\n",
        "\n",
        "# Output: False because we cannot identify 'a' without its key hence it is Flase.\n",
        "print('a' in y)"
      ],
      "metadata": {
        "colab": {
          "base_uri": "https://localhost:8080/"
        },
        "id": "Z9GzUJWqKVOv",
        "outputId": "097c14cd-72ca-4677-e9f0-e166bc990fe8"
      },
      "execution_count": null,
      "outputs": [
        {
          "output_type": "stream",
          "name": "stdout",
          "text": [
            "True\n",
            "True\n",
            "True\n",
            "False\n"
          ]
        }
      ]
    },
    {
      "cell_type": "markdown",
      "source": [
        "# Control Flow Statements\n",
        "Decision-making statements are those that help in deciding the **flow of the program**.\n",
        "\n",
        "For example, at times, you might want to execute a block of code only if a particular condition is satisfied. Well, in this case, decision-making statement will be of great help.\n",
        "\n",
        "The flow control statements are divided into three categories:\n",
        "\n",
        "1. Conditional statements\n",
        "2. Iterative statements\n",
        "3. Transfer/Control statements"
      ],
      "metadata": {
        "id": "MTRX70eFYaJo"
      }
    },
    {
      "cell_type": "markdown",
      "source": [
        "## `if` Statement\n",
        "The `if` statement is the simplest form. It takes a condition and evaluates to either `True` or `False`.\n",
        "\n",
        "```\n",
        "if(condition):\n",
        "    statement 1\n",
        "    statement 2\n",
        "    statement n\n",
        "```"
      ],
      "metadata": {
        "id": "6Zlrqh9NYwNs"
      }
    },
    {
      "cell_type": "code",
      "source": [
        "# Example 1:\n",
        "grade = 70\n",
        "if grade >= 65:\n",
        "    print(\"Passing grade\")"
      ],
      "metadata": {
        "colab": {
          "base_uri": "https://localhost:8080/"
        },
        "id": "-2FJjj_PKwk9",
        "outputId": "f0e107cb-f183-4e95-a3ac-0284ce9c7f29"
      },
      "execution_count": null,
      "outputs": [
        {
          "output_type": "stream",
          "name": "stdout",
          "text": [
            "Passing grade\n"
          ]
        }
      ]
    },
    {
      "cell_type": "code",
      "source": [
        "# Example 2: If the number is positive, we print an appropriate message\n",
        "\n",
        "num = 3\n",
        "if (num > 0):  # if condition is TRUE: enter the body of if\n",
        "    print(num, \"is a positive number.\")\n",
        "print(\"This is always printed.\")\n",
        "\n",
        "num = -1\n",
        "if num > 0:  # if condition is FALSE: do not enter the body of if\n",
        "    print(num, \"is a negative number.\")\n",
        "print(\"This is also always printed.\")"
      ],
      "metadata": {
        "colab": {
          "base_uri": "https://localhost:8080/"
        },
        "id": "viIrInfcZCzp",
        "outputId": "c1166849-2303-4950-d34b-a05be4e347c4"
      },
      "execution_count": null,
      "outputs": [
        {
          "output_type": "stream",
          "name": "stdout",
          "text": [
            "3 is a positive number.\n",
            "This is always printed.\n",
            "This is also always printed.\n"
          ]
        }
      ]
    },
    {
      "cell_type": "code",
      "source": [
        "number = 9\n",
        "if number > 6:\n",
        "    # Calculate square\n",
        "    print(number * number)\n",
        "print('Next lines of code')"
      ],
      "metadata": {
        "colab": {
          "base_uri": "https://localhost:8080/"
        },
        "id": "2_ku6dTYZFHX",
        "outputId": "95395950-6d62-4781-c3f9-fb9517f2bdae"
      },
      "execution_count": null,
      "outputs": [
        {
          "output_type": "stream",
          "name": "stdout",
          "text": [
            "81\n",
            "Next lines of code\n"
          ]
        }
      ]
    },
    {
      "cell_type": "code",
      "source": [
        "# Example 4: Check if num1 is less than num2\n",
        "\n",
        "num1, num2 = 6, 9\n",
        "if(num1 < num2):\n",
        "    print(\"num1 is less than num2\")"
      ],
      "metadata": {
        "colab": {
          "base_uri": "https://localhost:8080/"
        },
        "id": "gu70qiu3ZJ_K",
        "outputId": "bd81a6db-4b75-4b12-a78e-1d24956759c3"
      },
      "execution_count": null,
      "outputs": [
        {
          "output_type": "stream",
          "name": "stdout",
          "text": [
            "num1 is less than num2\n"
          ]
        }
      ]
    },
    {
      "cell_type": "markdown",
      "source": [
        "Well, I also want to give you a nice shortcut!\n",
        "### Shortcut for `if` statement (Short-hand `if` or one-line `if`)\n",
        "If you have only one statement to execute, then you can put it on the same line as the if statement."
      ],
      "metadata": {
        "id": "AxSnLnLPZOrp"
      }
    },
    {
      "cell_type": "code",
      "source": [
        "num1, num2 = 5, 6\n",
        "if(num1 < num2): print(\"num1 is less than num2\")"
      ],
      "metadata": {
        "colab": {
          "base_uri": "https://localhost:8080/"
        },
        "id": "7DHB3lYCZL8L",
        "outputId": "a55cbe04-aebe-423a-f36d-cd42f8f7e6e0"
      },
      "execution_count": null,
      "outputs": [
        {
          "output_type": "stream",
          "name": "stdout",
          "text": [
            "num1 is less than num2\n"
          ]
        }
      ]
    },
    {
      "cell_type": "markdown",
      "source": [
        "## `if-else` Statement\n",
        "It is likely that we will want the program to do something even when an if statement **evaluates to false**.\n",
        "\n",
        "```\n",
        "if condition:\n",
        "    statement 1\n",
        "else:\n",
        "    statement 2\n",
        "```"
      ],
      "metadata": {
        "id": "_1uRDYSaZw30"
      }
    },
    {
      "cell_type": "code",
      "source": [
        "# Example 1:\n",
        "\n",
        "grade = 60\n",
        "\n",
        "if grade >= 65:\n",
        "    print(\"Passing grade\")\n",
        "else:\n",
        "    print(\"Failing grade\")"
      ],
      "metadata": {
        "colab": {
          "base_uri": "https://localhost:8080/"
        },
        "id": "GALIhe0KZh4A",
        "outputId": "5d1c77a0-f8af-4fc5-e6dd-452ef5763eda"
      },
      "execution_count": null,
      "outputs": [
        {
          "output_type": "stream",
          "name": "stdout",
          "text": [
            "Failing grade\n"
          ]
        }
      ]
    },
    {
      "cell_type": "code",
      "source": [
        "# Example 2: Program checks if the number is positive or negative and displays an appropriate message\n",
        "\n",
        "num = 3\n",
        "\n",
        "# Try these two variations as well.\n",
        "# num = -5\n",
        "# num = 0\n",
        "\n",
        "if num >= 0:\n",
        "    print(\"Positive or Zero\")\n",
        "else:\n",
        "    print(\"Negative number\")"
      ],
      "metadata": {
        "colab": {
          "base_uri": "https://localhost:8080/"
        },
        "id": "I-5nnBGGaB-F",
        "outputId": "5e81f05f-f781-4430-a2fe-c91aabc205a3"
      },
      "execution_count": null,
      "outputs": [
        {
          "output_type": "stream",
          "name": "stdout",
          "text": [
            "Positive or Zero\n"
          ]
        }
      ]
    },
    {
      "cell_type": "code",
      "source": [
        "# Example 3: program to check if a num1 is less than num2\n",
        "\n",
        "num1, num2 = 6, 5\n",
        "if (num1 < num2):\n",
        "    print(\"num1 is less than num2\")\n",
        "else:\n",
        "    print(\"num2 is less than num1\")"
      ],
      "metadata": {
        "colab": {
          "base_uri": "https://localhost:8080/"
        },
        "id": "N5nqlTdeaDtX",
        "outputId": "ed398ef6-f5d3-486d-9e1a-7dc9c8532098"
      },
      "execution_count": null,
      "outputs": [
        {
          "output_type": "stream",
          "name": "stdout",
          "text": [
            "num2 is less than num1\n"
          ]
        }
      ]
    },
    {
      "cell_type": "code",
      "source": [
        "# Example 4:\n",
        "\n",
        "def password_check(password):\n",
        "    if password == \"Python@99>\":\n",
        "        print(\"Correct password\")\n",
        "    else:\n",
        "        print(\"Incorrect Password\")\n",
        "\n",
        "password_check(\"Python@99>\")\n",
        "# Output Correct password\n",
        "\n",
        "password_check(\"Python99\")\n",
        "# Output Incorrect Password"
      ],
      "metadata": {
        "colab": {
          "base_uri": "https://localhost:8080/"
        },
        "id": "bBrfU0UzaGcr",
        "outputId": "dad4d40f-de2c-46ce-90e7-30df952ab46a"
      },
      "execution_count": null,
      "outputs": [
        {
          "output_type": "stream",
          "name": "stdout",
          "text": [
            "Correct password\n",
            "Incorrect Password\n"
          ]
        }
      ]
    },
    {
      "cell_type": "markdown",
      "source": [
        "I'll give a shortcut for this too! (Thank me later)\n",
        "### Shortcut of `if else` (Short Hand `if ... else` or One line `if else`)\n",
        "If you have **only one statement each for if and else, then they can be put in the same line**. This can be done as shown below"
      ],
      "metadata": {
        "id": "FcePK8xWaKK_"
      }
    },
    {
      "cell_type": "code",
      "source": [
        "hungry = True\n",
        "x = 'Feed the bear now!' if hungry else 'Do not feed the bear.'\n",
        "print(x)"
      ],
      "metadata": {
        "colab": {
          "base_uri": "https://localhost:8080/"
        },
        "id": "QHlxT9uIaIg5",
        "outputId": "b804a310-8efa-49d8-e597-2660702d0134"
      },
      "execution_count": null,
      "outputs": [
        {
          "output_type": "stream",
          "name": "stdout",
          "text": [
            "Feed the bear now!\n"
          ]
        }
      ]
    },
    {
      "cell_type": "code",
      "source": [
        "a = 3\n",
        "print('A is positive') if a > 0 else print('A is negative') # first condition met, 'A is positive' will be printed"
      ],
      "metadata": {
        "colab": {
          "base_uri": "https://localhost:8080/"
        },
        "id": "2oOhE94BabgO",
        "outputId": "89978b2e-0d03-41f1-e7b2-0c24bce3e746"
      },
      "execution_count": null,
      "outputs": [
        {
          "output_type": "stream",
          "name": "stdout",
          "text": [
            "A is positive\n"
          ]
        }
      ]
    },
    {
      "cell_type": "code",
      "source": [
        "num1, num2 = 6, 5\n",
        "print(\"num1 is less than num2\") if (num1 < num2) else print(\"num2 is less than num1\")"
      ],
      "metadata": {
        "colab": {
          "base_uri": "https://localhost:8080/"
        },
        "id": "VdVJarq_aeGc",
        "outputId": "35f0d625-135c-4c34-e1da-425a401793b5"
      },
      "execution_count": null,
      "outputs": [
        {
          "output_type": "stream",
          "name": "stdout",
          "text": [
            "num2 is less than num1\n"
          ]
        }
      ]
    },
    {
      "cell_type": "code",
      "source": [
        "number = 96\n",
        "if number > 0: print(\"positive\")\n",
        "else: print(\"negative\")"
      ],
      "metadata": {
        "colab": {
          "base_uri": "https://localhost:8080/"
        },
        "id": "lrg1Lmvgafqd",
        "outputId": "c27d1496-8c11-447e-aa61-c98a89125955"
      },
      "execution_count": null,
      "outputs": [
        {
          "output_type": "stream",
          "name": "stdout",
          "text": [
            "positive\n"
          ]
        }
      ]
    },
    {
      "cell_type": "markdown",
      "source": [
        "## `if-elif-else` Statement\n",
        "`elif` keyword is used to chain multiple conditions one after another.\n",
        "```\n",
        "if condition-1:  \n",
        "     statement 1\n",
        "elif condition-2:\n",
        "     stetement 2\n",
        "elif condition-3:\n",
        "     stetement 3\n",
        "     ...         \n",
        "else:            \n",
        "     statement\n",
        "```"
      ],
      "metadata": {
        "id": "6s5uYGlOan8t"
      }
    },
    {
      "cell_type": "code",
      "source": [
        "# Example 1:\n",
        "'''In this program, we check if the number is positive or negative or zero and\n",
        "display an appropriate message'''\n",
        "\n",
        "num = 0\n",
        "\n",
        "# Try these two variations as well:\n",
        "# num = 0\n",
        "# num = -4.5\n",
        "\n",
        "if num > 0:\n",
        "    print(\"Positive number\")\n",
        "elif num == 0:\n",
        "    print(\"Zero\")\n",
        "else:\n",
        "    print(\"Negative number\")"
      ],
      "metadata": {
        "colab": {
          "base_uri": "https://localhost:8080/"
        },
        "id": "YO88IIkDag_h",
        "outputId": "a66e885d-95da-4545-8634-936eb773bb6b"
      },
      "execution_count": null,
      "outputs": [
        {
          "output_type": "stream",
          "name": "stdout",
          "text": [
            "Zero\n"
          ]
        }
      ]
    },
    {
      "cell_type": "code",
      "source": [
        "# Example 2:\n",
        "\n",
        "num1, num2 = 5, 5\n",
        "if(num1 > num2):\n",
        "    print(\"num1 is greater than num2\")\n",
        "elif(num1 == num2):\n",
        "    print(\"num1 is equal to num2\")\n",
        "else:\n",
        "    print(\"num1 is less than num2\")"
      ],
      "metadata": {
        "colab": {
          "base_uri": "https://localhost:8080/"
        },
        "id": "QJXphsCha5Hd",
        "outputId": "a49e921d-826a-472d-cdaa-64fbc84e6d48"
      },
      "execution_count": null,
      "outputs": [
        {
          "output_type": "stream",
          "name": "stdout",
          "text": [
            "num1 is equal to num2\n"
          ]
        }
      ]
    },
    {
      "cell_type": "code",
      "source": [
        "# Example 3:\n",
        "\n",
        "x = 10\n",
        "y = 12\n",
        "if x > y:\n",
        "    print(\"x>y\")\n",
        "elif x < y:\n",
        "    print(\"x<y\")\n",
        "else:\n",
        "    print(\"x=y\")"
      ],
      "metadata": {
        "colab": {
          "base_uri": "https://localhost:8080/"
        },
        "id": "6OjdotpSa7bC",
        "outputId": "0307c7ad-8998-44d2-afba-fbf35c936a44"
      },
      "execution_count": null,
      "outputs": [
        {
          "output_type": "stream",
          "name": "stdout",
          "text": [
            "x<y\n"
          ]
        }
      ]
    },
    {
      "cell_type": "code",
      "source": [
        "# Example 4:\n",
        "\n",
        "grade = 96\n",
        "\n",
        "if grade >= 90:\n",
        "    print(\"A grade\")\n",
        "elif grade >=80:\n",
        "    print(\"B grade\")\n",
        "elif grade >=70:\n",
        "    print(\"C grade\")\n",
        "elif grade >= 65:\n",
        "    print(\"D grade\")\n",
        "else:\n",
        "    print(\"Failing grade\")"
      ],
      "metadata": {
        "colab": {
          "base_uri": "https://localhost:8080/"
        },
        "id": "DJZx7y2Ta9FQ",
        "outputId": "4a9e020b-9a32-4d32-92ac-6271c76a06d8"
      },
      "execution_count": null,
      "outputs": [
        {
          "output_type": "stream",
          "name": "stdout",
          "text": [
            "A grade\n"
          ]
        }
      ]
    },
    {
      "cell_type": "markdown",
      "source": [
        "## Nested `if` Statement\n",
        "We can have a nested-if-else or nested-if-elif-else statement inside another `if-else` statement. This is called nesting in computer programming. The nested if statements is useful when we want to make a series of decisions.\n",
        "\n",
        "```\n",
        "if conditon_outer:\n",
        "    if condition_inner:\n",
        "        statement of nested if\n",
        "    else:\n",
        "        statement of nested if else:\n",
        "    statement ot outer if\n",
        "else:\n",
        "    Outer else\n",
        "```"
      ],
      "metadata": {
        "id": "Wm8lSqCjbEwC"
      }
    },
    {
      "cell_type": "code",
      "source": [
        "# Example 1:\n",
        "\n",
        "a=10\n",
        "if a>=20:  # Condition FALSE\n",
        "    print (\"Condition is True\")\n",
        "else:  # Code will go to ELSE body\n",
        "    if a>=15:  # Condition FALSE\n",
        "        print (\"Checking second value\")\n",
        "    else:  # Code will go to ELSE body\n",
        "        print (\"All Conditions are false\")"
      ],
      "metadata": {
        "colab": {
          "base_uri": "https://localhost:8080/"
        },
        "id": "MC8Cojnla-6v",
        "outputId": "6471f5d7-1cd0-4b68-b51b-308403f5cf8c"
      },
      "execution_count": null,
      "outputs": [
        {
          "output_type": "stream",
          "name": "stdout",
          "text": [
            "All Conditions are false\n"
          ]
        }
      ]
    },
    {
      "cell_type": "code",
      "source": [
        "# Example 2:\n",
        "\n",
        "x = 10\n",
        "y = 12\n",
        "if x > y:\n",
        "    print( \"x>y\")\n",
        "elif x < y:\n",
        "    print( \"x<y\")\n",
        "    if x==10:\n",
        "        print (\"x=10\")\n",
        "    else:\n",
        "        print (\"invalid\")\n",
        "else:\n",
        "    print (\"x=y\")"
      ],
      "metadata": {
        "colab": {
          "base_uri": "https://localhost:8080/"
        },
        "id": "nw4P8jVEbWBn",
        "outputId": "0149863c-dddc-4133-cf41-2c6cd2262213"
      },
      "execution_count": null,
      "outputs": [
        {
          "output_type": "stream",
          "name": "stdout",
          "text": [
            "x<y\n",
            "x=10\n"
          ]
        }
      ]
    },
    {
      "cell_type": "markdown",
      "source": [
        "## `for` Loop\n",
        "Python loops are used to repeatedly execute a block of statements until a given condition returns to be `False`.\n",
        "```python\n",
        "for element in sequence:\n",
        "    body of for loop\n",
        "```"
      ],
      "metadata": {
        "id": "Gk2ag4PGbaAv"
      }
    },
    {
      "cell_type": "code",
      "source": [
        "# Example 1: For loop\n",
        "words = ['one', 'two', 'three', 'four', 'five']\n",
        "\n",
        "for i in words:\n",
        "    print(i)"
      ],
      "metadata": {
        "colab": {
          "base_uri": "https://localhost:8080/"
        },
        "id": "yY1r9smebXnb",
        "outputId": "ee9411a2-885a-420d-8dbf-983db6014a5f"
      },
      "execution_count": null,
      "outputs": [
        {
          "output_type": "stream",
          "name": "stdout",
          "text": [
            "one\n",
            "two\n",
            "three\n",
            "four\n",
            "five\n"
          ]
        }
      ]
    },
    {
      "cell_type": "code",
      "source": [
        "# Example 2: Calculate the average of list of numbers\n",
        "numbers = [10, 20, 30, 40, 50]\n",
        "\n",
        "# definite iteration\n",
        "# run loop 5 times because list contains 5 items\n",
        "sum = 0\n",
        "for i in numbers:\n",
        "    sum = sum + i\n",
        "list_size = len(numbers)\n",
        "average = sum / list_size\n",
        "print(average)"
      ],
      "metadata": {
        "colab": {
          "base_uri": "https://localhost:8080/"
        },
        "id": "X1AfigtHbtwz",
        "outputId": "7eb8a700-cbe8-4ed3-bc88-96c3cb7c57fe"
      },
      "execution_count": null,
      "outputs": [
        {
          "output_type": "stream",
          "name": "stdout",
          "text": [
            "30.0\n"
          ]
        }
      ]
    },
    {
      "cell_type": "markdown",
      "source": [
        "## `while` Loop\n",
        "The `while` loop in Python is used to iterate over a block of code as long as the expression/condition is `True`.\n",
        "```python\n",
        "while condition:\n",
        "    body of while loop\n",
        "```"
      ],
      "metadata": {
        "id": "88_ulH8rb1ua"
      }
    },
    {
      "cell_type": "code",
      "source": [
        "# Example 1: Print numbers less than 5\n",
        "count = 1\n",
        "# run loop till count is less than 5\n",
        "while count < 5:\n",
        "    print(count)\n",
        "    count = count + 1"
      ],
      "metadata": {
        "colab": {
          "base_uri": "https://localhost:8080/"
        },
        "id": "Syd8V8GybvOQ",
        "outputId": "850e12fd-4bf2-4c40-f8de-783138940f9d"
      },
      "execution_count": null,
      "outputs": [
        {
          "output_type": "stream",
          "name": "stdout",
          "text": [
            "1\n",
            "2\n",
            "3\n",
            "4\n"
          ]
        }
      ]
    },
    {
      "cell_type": "code",
      "source": [
        "# Example 2:\n",
        "num = 10\n",
        "sum = 0\n",
        "i = 1\n",
        "while i <= num:\n",
        "    sum = sum + i\n",
        "    i = i + 1\n",
        "print(\"Sum of first 10 number is:\", sum)"
      ],
      "metadata": {
        "colab": {
          "base_uri": "https://localhost:8080/"
        },
        "id": "XZ3QwzjZcH1V",
        "outputId": "49453edc-1526-4141-974f-d305d5fe635a"
      },
      "execution_count": null,
      "outputs": [
        {
          "output_type": "stream",
          "name": "stdout",
          "text": [
            "Sum of first 10 number is: 55\n"
          ]
        }
      ]
    },
    {
      "cell_type": "markdown",
      "source": [
        "## Control Statements\n",
        "As you may know, loops in Python are used to iterate repeatedly over a block of code. But at times, you might want to **shift the control once a particular condition is satisfied**.\n",
        "\n",
        "|      | Statement | Description |\n",
        "|:----|:----| :--- |\n",
        "|1| **`break`** | Terminate the current loop. Use the **`break`** statement to come out of the loop instantly. |\n",
        "|2| **`continue`** | Skip the current iteration of a loop and move to the next iteration |\n",
        "|3| **`pass`** | Do nothing. Ignore the condition in which it occurred and proceed to run the program as usual |\n",
        "\n",
        "Loops iterate over a block of code until the test expression is `False`, but sometimes we wish to terminate the current iteration or even the whole loop without checking test expression."
      ],
      "metadata": {
        "id": "Y63hI0OicUvH"
      }
    },
    {
      "cell_type": "code",
      "source": [
        "# Example: break statement\n",
        "\n",
        "numbers = [10, 30, 120, 330]\n",
        "for i in numbers:\n",
        "    if i > 100:\n",
        "        break\n",
        "    print('current number', i)"
      ],
      "metadata": {
        "colab": {
          "base_uri": "https://localhost:8080/"
        },
        "id": "Izp0WgnocKPm",
        "outputId": "c3f132d7-a6be-4efd-e57b-d027dda45f04"
      },
      "execution_count": null,
      "outputs": [
        {
          "output_type": "stream",
          "name": "stdout",
          "text": [
            "current number 10\n",
            "current number 30\n"
          ]
        }
      ]
    },
    {
      "cell_type": "code",
      "source": [
        "# Example: continue statement\n",
        "\n",
        "for val in \"string\":\n",
        "    if val == \"i\":\n",
        "        continue\n",
        "    print(val)\n",
        "\n",
        "print(\"The end\")"
      ],
      "metadata": {
        "colab": {
          "base_uri": "https://localhost:8080/"
        },
        "id": "SBCx9SyLdAX6",
        "outputId": "2708a639-4a0b-42cd-8af8-fb30fb7f57b0"
      },
      "execution_count": null,
      "outputs": [
        {
          "output_type": "stream",
          "name": "stdout",
          "text": [
            "s\n",
            "t\n",
            "r\n",
            "n\n",
            "g\n",
            "The end\n"
          ]
        }
      ]
    },
    {
      "cell_type": "code",
      "source": [
        "# Example: pass statemetn\n",
        "months = ['January', 'June', 'March', 'April']\n",
        "for mon in months:\n",
        "    pass\n",
        "print(months)"
      ],
      "metadata": {
        "colab": {
          "base_uri": "https://localhost:8080/"
        },
        "id": "5gBoemkjdCUI",
        "outputId": "a8a75158-ffb7-4c68-f4ff-fc94a6ac2bb6"
      },
      "execution_count": null,
      "outputs": [
        {
          "output_type": "stream",
          "name": "stdout",
          "text": [
            "['January', 'June', 'March', 'April']\n"
          ]
        }
      ]
    },
    {
      "cell_type": "markdown",
      "source": [
        "# Functions\n",
        "a **function is a block of organized, reusable (DRY- Don’t Repeat Yourself) code with a name** that is used to perform a single, specific task. It can take arguments and returns the value.\n",
        "\n",
        "Functions help break our program into smaller and modular chunks. As our program grows larger and larger, functions make it more organized and manageable.\n",
        "\n",
        "Furthermore, it improves efficiency and reduces errors because of the reusability of a code.\n",
        "```python\n",
        "def function_name(parameter1, parameter2):\n",
        "    \"\"\"docstring\"\"\"\n",
        "    # function body    \n",
        "    # write some action\n",
        "  return value\n",
        "```"
      ],
      "metadata": {
        "id": "y9Xk90QMeIvt"
      }
    },
    {
      "cell_type": "code",
      "source": [
        "# Example 1:\n",
        "def greet():\n",
        "    print(\"Welcome to Python for Data Science\")\n",
        "\n",
        "# call function using its name\n",
        "greet()"
      ],
      "metadata": {
        "colab": {
          "base_uri": "https://localhost:8080/"
        },
        "id": "26mRubeidZg-",
        "outputId": "f211ab54-63c8-477b-c55d-89e23818db63"
      },
      "execution_count": null,
      "outputs": [
        {
          "output_type": "stream",
          "name": "stdout",
          "text": [
            "Welcome to Python for Data Science\n"
          ]
        }
      ]
    },
    {
      "cell_type": "code",
      "source": [
        "# Example 2:\n",
        "def add_two_numbers ():\n",
        "    num_one = 3\n",
        "    num_two = 6\n",
        "    total = num_one + num_two\n",
        "    print(total)\n",
        "\n",
        "add_two_numbers() # calling a function"
      ],
      "metadata": {
        "colab": {
          "base_uri": "https://localhost:8080/"
        },
        "id": "-lXZGazLeouW",
        "outputId": "a52b1e82-239a-4850-a40b-029e2b63eb78"
      },
      "execution_count": null,
      "outputs": [
        {
          "output_type": "stream",
          "name": "stdout",
          "text": [
            "9\n"
          ]
        }
      ]
    },
    {
      "cell_type": "code",
      "source": [
        "def course(name, course_name):\n",
        "    print(\"Hello\", name, \"Welcome to Python for Robotics\")\n",
        "    print(\"Your course name is\", course_name)\n",
        "\n",
        "course('Arthur', 'Python')   # call function"
      ],
      "metadata": {
        "colab": {
          "base_uri": "https://localhost:8080/"
        },
        "id": "PHJxxPkxerks",
        "outputId": "084940f9-4483-4ef0-e893-fc97f0ed264a"
      },
      "execution_count": null,
      "outputs": [
        {
          "output_type": "stream",
          "name": "stdout",
          "text": [
            "Hello Arthur Welcome to Python for Robotics\n",
            "Your course name is Python\n"
          ]
        }
      ]
    },
    {
      "cell_type": "markdown",
      "source": [
        "# OOPs Concepts\n",
        "Python is a multi-paradigm programming language. It supports different programming approaches.\n",
        "\n",
        "One of the popular approaches to solve a programming problem is by creating objects. This is known as Object-Oriented Programming (OOP).\n",
        "\n",
        "## Class\n",
        "In Python, everything is an object. A class is a blueprint for the object. To create an object we require a model or plan or blueprint which is nothing but class.\n",
        "\n",
        "```python\n",
        "class classname:\n",
        "    '''documentation string'''\n",
        "    class_suite\n",
        "```"
      ],
      "metadata": {
        "id": "cQYLhqScfWvO"
      }
    },
    {
      "cell_type": "code",
      "source": [
        "# Creating a class\n",
        "\n",
        "class Person:\n",
        "    pass\n",
        "print(Person)"
      ],
      "metadata": {
        "colab": {
          "base_uri": "https://localhost:8080/"
        },
        "id": "IuY8Gn-oe4s3",
        "outputId": "a0aecc38-0ea8-44a7-df5d-fd9a747cdfa6"
      },
      "execution_count": null,
      "outputs": [
        {
          "output_type": "stream",
          "name": "stdout",
          "text": [
            "<class '__main__.Person'>\n"
          ]
        }
      ]
    },
    {
      "cell_type": "markdown",
      "source": [
        "## Object\n",
        "The physical existence of a class is nothing but an object. In other words, the object is an entity that has a state and behavior.\n",
        "\n",
        "`reference_variable = classname()`"
      ],
      "metadata": {
        "id": "8CsGpG2jfqUk"
      }
    },
    {
      "cell_type": "code",
      "source": [
        "# Example 1: We can create an object by calling the class\n",
        "\n",
        "p = Person()\n",
        "print(p)"
      ],
      "metadata": {
        "colab": {
          "base_uri": "https://localhost:8080/"
        },
        "id": "jSinRZ8ofpIP",
        "outputId": "22ea021b-f26b-44a2-c66b-d90b575acf19"
      },
      "execution_count": null,
      "outputs": [
        {
          "output_type": "stream",
          "name": "stdout",
          "text": [
            "<__main__.Person object at 0x78899aa35600>\n"
          ]
        }
      ]
    },
    {
      "cell_type": "code",
      "source": [
        "# Example 2: Creating Class and Object in Python\n",
        "\n",
        "class Student:\n",
        "    \"\"\"This is student class with data\"\"\"\n",
        "    def learn(self):    # A sample method\n",
        "        print(\"Welcome to My. Keivalya Pandya's class on Python Programming\")\n",
        "\n",
        "stud = Student()        # creating object\n",
        "stud.learn()            # Calling method"
      ],
      "metadata": {
        "colab": {
          "base_uri": "https://localhost:8080/"
        },
        "id": "yMk2qejPfzdE",
        "outputId": "04278307-f5a0-4306-b25d-51c5a0cd7b69"
      },
      "execution_count": null,
      "outputs": [
        {
          "output_type": "stream",
          "name": "stdout",
          "text": [
            "Welcome to My. Keivalya Pandya's class on Python Programming\n"
          ]
        }
      ]
    },
    {
      "cell_type": "markdown",
      "source": [
        "## Class Constructor\n",
        "In the examples above, we have created an object from the `Person` class. However, a class without a constructor is not really useful in real applications. Let us use constructor function to make our class more useful."
      ],
      "metadata": {
        "id": "M_4m1HtrgBOH"
      }
    },
    {
      "cell_type": "code",
      "source": [
        "class Person:\n",
        "      def __init__ (self, name):\n",
        "        # self allows to attach parameter to the class\n",
        "          self.name = name\n",
        "\n",
        "p = Person('Kv')\n",
        "print(p.name)\n",
        "print(p)"
      ],
      "metadata": {
        "colab": {
          "base_uri": "https://localhost:8080/"
        },
        "id": "0Mw-Fbjyf6Gi",
        "outputId": "3a2f6851-1356-4978-a126-2a55aac271ad"
      },
      "execution_count": null,
      "outputs": [
        {
          "output_type": "stream",
          "name": "stdout",
          "text": [
            "Kv\n",
            "<__main__.Person object at 0x78899aa35630>\n"
          ]
        }
      ]
    },
    {
      "cell_type": "markdown",
      "source": [
        "Let's add more parameters, just for fun"
      ],
      "metadata": {
        "id": "CcI2WxeggUW0"
      }
    },
    {
      "cell_type": "code",
      "source": [
        "# Example 1: add more parameters to the constructor function.\n",
        "\n",
        "class Person:\n",
        "      def __init__(self, firstname, lastname, age, country, city):\n",
        "            self.firstname = firstname\n",
        "            self.lastname = lastname\n",
        "            self.age = age\n",
        "            self.country = country\n",
        "            self.city = city\n",
        "\n",
        "p = Person('Keivalya', 'Pandya', 22, 'India', 'India')\n",
        "print(p.firstname)\n",
        "print(p.lastname)\n",
        "print(p.age)\n",
        "print(p.country)\n",
        "print(p.city)"
      ],
      "metadata": {
        "colab": {
          "base_uri": "https://localhost:8080/"
        },
        "id": "NV0iWJaPgQ8m",
        "outputId": "c1528e11-9460-46e9-fa3d-05a18487c7c3"
      },
      "execution_count": null,
      "outputs": [
        {
          "output_type": "stream",
          "name": "stdout",
          "text": [
            "Keivalya\n",
            "Pandya\n",
            "22\n",
            "India\n",
            "India\n"
          ]
        }
      ]
    },
    {
      "cell_type": "code",
      "source": [],
      "metadata": {
        "id": "3wAFMmNOggT3"
      },
      "execution_count": null,
      "outputs": []
    }
  ]
}